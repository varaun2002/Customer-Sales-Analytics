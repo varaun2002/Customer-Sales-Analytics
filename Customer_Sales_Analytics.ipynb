{
 "cells": [
  {
   "cell_type": "markdown",
   "metadata": {},
   "source": [
    "### Name : Varaun Gandhi\n",
    "### Andrew_ID : vbgandhi"
   ]
  },
  {
   "cell_type": "code",
   "execution_count": 563,
   "metadata": {},
   "outputs": [
    {
     "data": {
      "text/html": [
       "<div>\n",
       "<style scoped>\n",
       "    .dataframe tbody tr th:only-of-type {\n",
       "        vertical-align: middle;\n",
       "    }\n",
       "\n",
       "    .dataframe tbody tr th {\n",
       "        vertical-align: top;\n",
       "    }\n",
       "\n",
       "    .dataframe thead th {\n",
       "        text-align: right;\n",
       "    }\n",
       "</style>\n",
       "<table border=\"1\" class=\"dataframe\">\n",
       "  <thead>\n",
       "    <tr style=\"text-align: right;\">\n",
       "      <th></th>\n",
       "      <th>Order ID</th>\n",
       "      <th>Order Date</th>\n",
       "      <th>Customer Name</th>\n",
       "      <th>Country</th>\n",
       "      <th>State</th>\n",
       "      <th>City</th>\n",
       "      <th>Region</th>\n",
       "      <th>Segment</th>\n",
       "      <th>Ship Mode</th>\n",
       "      <th>Category</th>\n",
       "      <th>Sub-Category</th>\n",
       "      <th>Product Name</th>\n",
       "      <th>Discount</th>\n",
       "      <th>Sales</th>\n",
       "      <th>Profit</th>\n",
       "      <th>Quantity</th>\n",
       "    </tr>\n",
       "  </thead>\n",
       "  <tbody>\n",
       "    <tr>\n",
       "      <th>0</th>\n",
       "      <td>BN-2011-7407039</td>\n",
       "      <td>1/1/11</td>\n",
       "      <td>Ruby Patel</td>\n",
       "      <td>Sweden</td>\n",
       "      <td>Stockholm</td>\n",
       "      <td>Stockholm</td>\n",
       "      <td>North</td>\n",
       "      <td>Home Office</td>\n",
       "      <td>Economy Plus</td>\n",
       "      <td>Office Supplies</td>\n",
       "      <td>Paper</td>\n",
       "      <td>Enermax Note Cards, Premium</td>\n",
       "      <td>0.5</td>\n",
       "      <td>$45</td>\n",
       "      <td>-26.0</td>\n",
       "      <td>3.0</td>\n",
       "    </tr>\n",
       "    <tr>\n",
       "      <th>1</th>\n",
       "      <td>AZ-2011-9050313</td>\n",
       "      <td>1/3/11</td>\n",
       "      <td>Summer Hayward</td>\n",
       "      <td>United Kingdom</td>\n",
       "      <td>England</td>\n",
       "      <td>Southport</td>\n",
       "      <td>North</td>\n",
       "      <td>Consumer</td>\n",
       "      <td>Economy</td>\n",
       "      <td>Furniture</td>\n",
       "      <td>Bookcases</td>\n",
       "      <td>Dania Corner Shelving, Traditional</td>\n",
       "      <td>0.0</td>\n",
       "      <td>$854</td>\n",
       "      <td>290.0</td>\n",
       "      <td>7.0</td>\n",
       "    </tr>\n",
       "    <tr>\n",
       "      <th>2</th>\n",
       "      <td>AZ-2011-6674300</td>\n",
       "      <td>1/4/11</td>\n",
       "      <td>Devin Huddleston</td>\n",
       "      <td>France</td>\n",
       "      <td>Auvergne-Rhône-Alpes</td>\n",
       "      <td>Valence</td>\n",
       "      <td>Central</td>\n",
       "      <td>Consumer</td>\n",
       "      <td>Economy</td>\n",
       "      <td>Office Supplies</td>\n",
       "      <td>Art</td>\n",
       "      <td>Binney &amp; Smith Sketch Pad, Easy-Erase</td>\n",
       "      <td>0.0</td>\n",
       "      <td>$140</td>\n",
       "      <td>21.0</td>\n",
       "      <td>3.0</td>\n",
       "    </tr>\n",
       "    <tr>\n",
       "      <th>3</th>\n",
       "      <td>BN-2011-2819714</td>\n",
       "      <td>1/4/11</td>\n",
       "      <td>Mary Parker</td>\n",
       "      <td>United Kingdom</td>\n",
       "      <td>England</td>\n",
       "      <td>Birmingham</td>\n",
       "      <td>North</td>\n",
       "      <td>Corporate</td>\n",
       "      <td>Economy</td>\n",
       "      <td>Office Supplies</td>\n",
       "      <td>Art</td>\n",
       "      <td>Boston Markers, Easy-Erase</td>\n",
       "      <td>0.5</td>\n",
       "      <td>$27</td>\n",
       "      <td>-22.0</td>\n",
       "      <td>2.0</td>\n",
       "    </tr>\n",
       "    <tr>\n",
       "      <th>4</th>\n",
       "      <td>BN-2011-2819714</td>\n",
       "      <td>1/4/11</td>\n",
       "      <td>Mary Parker</td>\n",
       "      <td>United Kingdom</td>\n",
       "      <td>England</td>\n",
       "      <td>Birmingham</td>\n",
       "      <td>North</td>\n",
       "      <td>Corporate</td>\n",
       "      <td>Economy</td>\n",
       "      <td>Office Supplies</td>\n",
       "      <td>Storage</td>\n",
       "      <td>Eldon Folders, Single Width</td>\n",
       "      <td>0.5</td>\n",
       "      <td>$17</td>\n",
       "      <td>-1.0</td>\n",
       "      <td>2.0</td>\n",
       "    </tr>\n",
       "  </tbody>\n",
       "</table>\n",
       "</div>"
      ],
      "text/plain": [
       "          Order ID Order Date     Customer Name         Country  \\\n",
       "0  BN-2011-7407039     1/1/11        Ruby Patel          Sweden   \n",
       "1  AZ-2011-9050313     1/3/11    Summer Hayward  United Kingdom   \n",
       "2  AZ-2011-6674300     1/4/11  Devin Huddleston          France   \n",
       "3  BN-2011-2819714     1/4/11       Mary Parker  United Kingdom   \n",
       "4  BN-2011-2819714     1/4/11       Mary Parker  United Kingdom   \n",
       "\n",
       "                  State        City   Region      Segment     Ship Mode  \\\n",
       "0             Stockholm   Stockholm    North  Home Office  Economy Plus   \n",
       "1               England   Southport    North     Consumer       Economy   \n",
       "2  Auvergne-Rhône-Alpes     Valence  Central     Consumer       Economy   \n",
       "3               England  Birmingham    North    Corporate       Economy   \n",
       "4               England  Birmingham    North    Corporate       Economy   \n",
       "\n",
       "          Category Sub-Category                           Product Name  \\\n",
       "0  Office Supplies        Paper            Enermax Note Cards, Premium   \n",
       "1        Furniture    Bookcases     Dania Corner Shelving, Traditional   \n",
       "2  Office Supplies          Art  Binney & Smith Sketch Pad, Easy-Erase   \n",
       "3  Office Supplies          Art             Boston Markers, Easy-Erase   \n",
       "4  Office Supplies      Storage            Eldon Folders, Single Width   \n",
       "\n",
       "   Discount Sales  Profit  Quantity  \n",
       "0       0.5   $45   -26.0       3.0  \n",
       "1       0.0  $854   290.0       7.0  \n",
       "2       0.0  $140    21.0       3.0  \n",
       "3       0.5   $27   -22.0       2.0  \n",
       "4       0.5   $17    -1.0       2.0  "
      ]
     },
     "execution_count": 563,
     "metadata": {},
     "output_type": "execute_result"
    }
   ],
   "source": [
    "import pandas as pd\n",
    "\n",
    "df = pd.read_csv('customer_sales.csv')\n",
    "df.head()"
   ]
  },
  {
   "cell_type": "markdown",
   "metadata": {},
   "source": [
    "### Step 1 : Understand the dataset ###"
   ]
  },
  {
   "cell_type": "code",
   "execution_count": 564,
   "metadata": {},
   "outputs": [
    {
     "data": {
      "text/plain": [
       "Order ID          0\n",
       "Order Date        6\n",
       "Customer Name     1\n",
       "Country           1\n",
       "State             4\n",
       "City              4\n",
       "Region            0\n",
       "Segment           1\n",
       "Ship Mode         5\n",
       "Category          5\n",
       "Sub-Category      0\n",
       "Product Name      0\n",
       "Discount          7\n",
       "Sales             2\n",
       "Profit           13\n",
       "Quantity         13\n",
       "dtype: int64"
      ]
     },
     "execution_count": 564,
     "metadata": {},
     "output_type": "execute_result"
    }
   ],
   "source": [
    "#1. check missing values\n",
    "df.isna().sum()\n",
    "\n",
    "#Yes there are missing values in dataset"
   ]
  },
  {
   "cell_type": "code",
   "execution_count": 565,
   "metadata": {},
   "outputs": [
    {
     "name": "stdout",
     "output_type": "stream",
     "text": [
      "Earliest date\n",
      "2011-01-01 00:00:00\n",
      "Latest date\n",
      "2014-12-31 00:00:00\n"
     ]
    },
    {
     "name": "stderr",
     "output_type": "stream",
     "text": [
      "/var/folders/_d/07fvhvx16qj9690gst6xd02r0000gn/T/ipykernel_28757/4053574909.py:2: UserWarning: Could not infer format, so each element will be parsed individually, falling back to `dateutil`. To ensure parsing is consistent and as-expected, please specify a format.\n",
      "  df['Order Date'] = pd.to_datetime(df['Order Date'])\n"
     ]
    }
   ],
   "source": [
    "#2. Range of order date in the dataset\n",
    "df['Order Date'] = pd.to_datetime(df['Order Date'])\n",
    "print(\"Earliest date\")\n",
    "print(df['Order Date'].min())\n",
    "print(\"Latest date\") \n",
    "print(df['Order Date'].max())"
   ]
  },
  {
   "cell_type": "code",
   "execution_count": 566,
   "metadata": {},
   "outputs": [
    {
     "name": "stdout",
     "output_type": "stream",
     "text": [
      "No of unique customers\n"
     ]
    },
    {
     "data": {
      "text/plain": [
       "792"
      ]
     },
     "execution_count": 566,
     "metadata": {},
     "output_type": "execute_result"
    }
   ],
   "source": [
    "#3. No of unique customers\n",
    "print(\"No of unique customers\")\n",
    "df['Customer Name'].nunique()\n"
   ]
  },
  {
   "cell_type": "code",
   "execution_count": 567,
   "metadata": {},
   "outputs": [
    {
     "name": "stdout",
     "output_type": "stream",
     "text": [
      "No of unique orders\n"
     ]
    },
    {
     "data": {
      "text/plain": [
       "4117"
      ]
     },
     "execution_count": 567,
     "metadata": {},
     "output_type": "execute_result"
    }
   ],
   "source": [
    "#4. No of unique orders\n",
    "print(\"No of unique orders\")\n",
    "df['Order ID'].nunique()"
   ]
  },
  {
   "cell_type": "code",
   "execution_count": 568,
   "metadata": {},
   "outputs": [
    {
     "name": "stdout",
     "output_type": "stream",
     "text": [
      "Summary statistics for sales\n"
     ]
    },
    {
     "data": {
      "text/plain": [
       "count      8045.000000\n",
       "mean        342.542946\n",
       "std        3218.073605\n",
       "min        -110.000000\n",
       "25%          48.000000\n",
       "50%         116.000000\n",
       "75%         313.000000\n",
       "max      206000.000000\n",
       "Name: Sales, dtype: float64"
      ]
     },
     "execution_count": 568,
     "metadata": {},
     "output_type": "execute_result"
    }
   ],
   "source": [
    "#5. Summary statistics for sales min, max, variance, and standard deviations?\n",
    "print(\"Summary statistics for sales\")\n",
    "df[\"Sales\"] = df[\"Sales\"].str.replace(\"[$,]\", \"\", regex=True).astype(float)\n",
    "df['Sales'].describe()"
   ]
  },
  {
   "cell_type": "code",
   "execution_count": 569,
   "metadata": {},
   "outputs": [
    {
     "data": {
      "image/png": "[encoded data removed]",
      "text/plain": [
       "<Figure size 1200x600 with 1 Axes>"
      ]
     },
     "metadata": {},
     "output_type": "display_data"
    }
   ],
   "source": [
    "#6. plot the graph of sales over time\n",
    "import matplotlib.pyplot as plt\n",
    "df['Sales'].plot(figsize=(12,6))\n",
    "plt.ylabel('Sales')\n",
    "plt.title('Sales Over Time')\n",
    "plt.show()\n",
    "\n",
    "\n",
    "# Apart from the outliers in Jan 2011 and in Jan 2014, the sales data seem to have no increase or decrease trend over time."
   ]
  },
  {
   "cell_type": "markdown",
   "metadata": {},
   "source": [
    "### Step 2 : Explore the dataset ###"
   ]
  },
  {
   "cell_type": "code",
   "execution_count": 570,
   "metadata": {},
   "outputs": [
    {
     "data": {
      "image/png": "[encoded data removed]",
      "text/plain": [
       "<Figure size 1200x600 with 1 Axes>"
      ]
     },
     "metadata": {},
     "output_type": "display_data"
    }
   ],
   "source": [
    "#1. Scatter plot of sales vs order date\n",
    "plt.figure(figsize=(12,6))\n",
    "plt.scatter(df['Order Date'], df['Sales'])\n",
    "plt.ylabel('Sales')\n",
    "plt.title('Sales vs Order Date')\n",
    "plt.show()\n",
    "\n",
    "\n",
    "#Yes, there are a few outliers and they can be treated by eliminating them or by performing log transformation."
   ]
  },
  {
   "cell_type": "code",
   "execution_count": 571,
   "metadata": {},
   "outputs": [
    {
     "data": {
      "image/png": "[encoded data removed]",
      "text/plain": [
       "<Figure size 1200x600 with 1 Axes>"
      ]
     },
     "metadata": {},
     "output_type": "display_data"
    }
   ],
   "source": [
    "#2. effect of discount on sales and profit\n",
    "df_grouped = df.groupby('Discount').agg({'Sales':'mean', 'Profit':'mean'}).reset_index()\n",
    "plt.figure(figsize=(12,6))\n",
    "plt.plot(df_grouped['Discount'], df_grouped['Sales'], label='Average Sales')\n",
    "plt.plot(df_grouped['Discount'], df_grouped['Profit'], label='Average Profit')\n",
    "plt.xlabel('Discount (%)')\n",
    "plt.ylabel('Amount')\n",
    "plt.title('Effect of Discount on Sales and Profit')\n",
    "plt.legend()\n",
    "plt.show()\n",
    "\n",
    "\n",
    "#As the graph shows the sales increase till 20% discount and then it starts decreasing\n",
    "#Whereas the profit keeps decreasing as the discount increases\n",
    "#At 80% discount the profit takes a steep dive into negative values and sales increases\n",
    "#Optimal discount is between 10% and 20% as it gives maximum sales and profit"
   ]
  },
  {
   "cell_type": "code",
   "execution_count": 572,
   "metadata": {},
   "outputs": [
    {
     "name": "stdout",
     "output_type": "stream",
     "text": [
      "                            OLS Regression Results                            \n",
      "==============================================================================\n",
      "Dep. Variable:                  Sales   R-squared:                       0.008\n",
      "Model:                            OLS   Adj. R-squared:                  0.008\n",
      "Method:                 Least Squares   F-statistic:                     21.32\n",
      "Date:                Fri, 12 Sep 2025   Prob (F-statistic):           9.42e-14\n",
      "Time:                        16:33:56   Log-Likelihood:                -76241.\n",
      "No. Observations:                8032   AIC:                         1.525e+05\n",
      "Df Residuals:                    8028   BIC:                         1.525e+05\n",
      "Df Model:                           3                                         \n",
      "Covariance Type:            nonrobust                                         \n",
      "==============================================================================\n",
      "                 coef    std err          t      P>|t|      [0.025      0.975]\n",
      "------------------------------------------------------------------------------\n",
      "const        -87.6265     74.823     -1.171      0.242    -234.299      59.046\n",
      "Profit         1.1542      0.217      5.323      0.000       0.729       1.579\n",
      "Quantity      87.0629     16.353      5.324      0.000      55.007     119.119\n",
      "Discount     546.8922    209.201      2.614      0.009     136.804     956.981\n",
      "==============================================================================\n",
      "Omnibus:                    27263.710   Durbin-Watson:                   2.004\n",
      "Prob(Omnibus):                  0.000   Jarque-Bera (JB):       5059321085.336\n",
      "Skew:                          61.840   Prob(JB):                         0.00\n",
      "Kurtosis:                    3889.154   Cond. No.                     1.06e+03\n",
      "==============================================================================\n",
      "\n",
      "Notes:\n",
      "[1] Standard Errors assume that the covariance matrix of the errors is correctly specified.\n",
      "[2] The condition number is large, 1.06e+03. This might indicate that there are\n",
      "strong multicollinearity or other numerical problems.\n"
     ]
    }
   ],
   "source": [
    "#3. Factors affecting sales using regression\n",
    "import statsmodels.api as sm\n",
    "df_reg = df[['Sales', 'Profit', 'Quantity', 'Discount']]\n",
    "df_reg = df_reg.dropna()\n",
    "X = df_reg[['Profit', 'Quantity', 'Discount']]\n",
    "y = df_reg['Sales']\n",
    "X = sm.add_constant(X)\n",
    "model = sm.OLS(y, X).fit()\n",
    "print(model.summary())\n",
    "\n",
    "\n",
    "#The factors that affect sales the most are quantity followed by discount"
   ]
  },
  {
   "cell_type": "markdown",
   "metadata": {},
   "source": [
    "### Step 3: Determine origin year of customers"
   ]
  },
  {
   "cell_type": "code",
   "execution_count": 573,
   "metadata": {},
   "outputs": [
    {
     "data": {
      "text/html": [
       "<div>\n",
       "<style scoped>\n",
       "    .dataframe tbody tr th:only-of-type {\n",
       "        vertical-align: middle;\n",
       "    }\n",
       "\n",
       "    .dataframe tbody tr th {\n",
       "        vertical-align: top;\n",
       "    }\n",
       "\n",
       "    .dataframe thead th {\n",
       "        text-align: right;\n",
       "    }\n",
       "</style>\n",
       "<table border=\"1\" class=\"dataframe\">\n",
       "  <thead>\n",
       "    <tr style=\"text-align: right;\">\n",
       "      <th></th>\n",
       "      <th>Order ID</th>\n",
       "      <th>Order Date</th>\n",
       "      <th>Customer Name</th>\n",
       "      <th>Country</th>\n",
       "      <th>State</th>\n",
       "      <th>City</th>\n",
       "      <th>Region</th>\n",
       "      <th>Segment</th>\n",
       "      <th>Ship Mode</th>\n",
       "      <th>Category</th>\n",
       "      <th>Sub-Category</th>\n",
       "      <th>Product Name</th>\n",
       "      <th>Discount</th>\n",
       "      <th>Sales</th>\n",
       "      <th>Profit</th>\n",
       "      <th>Quantity</th>\n",
       "      <th>Origin Year</th>\n",
       "    </tr>\n",
       "  </thead>\n",
       "  <tbody>\n",
       "    <tr>\n",
       "      <th>0</th>\n",
       "      <td>BN-2011-7407039</td>\n",
       "      <td>2011-01-01</td>\n",
       "      <td>Ruby Patel</td>\n",
       "      <td>Sweden</td>\n",
       "      <td>Stockholm</td>\n",
       "      <td>Stockholm</td>\n",
       "      <td>North</td>\n",
       "      <td>Home Office</td>\n",
       "      <td>Economy Plus</td>\n",
       "      <td>Office Supplies</td>\n",
       "      <td>Paper</td>\n",
       "      <td>Enermax Note Cards, Premium</td>\n",
       "      <td>0.5</td>\n",
       "      <td>45.0</td>\n",
       "      <td>-26.0</td>\n",
       "      <td>3.0</td>\n",
       "      <td>2011</td>\n",
       "    </tr>\n",
       "    <tr>\n",
       "      <th>1</th>\n",
       "      <td>AZ-2011-9050313</td>\n",
       "      <td>2011-01-03</td>\n",
       "      <td>Summer Hayward</td>\n",
       "      <td>United Kingdom</td>\n",
       "      <td>England</td>\n",
       "      <td>Southport</td>\n",
       "      <td>North</td>\n",
       "      <td>Consumer</td>\n",
       "      <td>Economy</td>\n",
       "      <td>Furniture</td>\n",
       "      <td>Bookcases</td>\n",
       "      <td>Dania Corner Shelving, Traditional</td>\n",
       "      <td>0.0</td>\n",
       "      <td>854.0</td>\n",
       "      <td>290.0</td>\n",
       "      <td>7.0</td>\n",
       "      <td>2011</td>\n",
       "    </tr>\n",
       "    <tr>\n",
       "      <th>2</th>\n",
       "      <td>AZ-2011-6674300</td>\n",
       "      <td>2011-01-04</td>\n",
       "      <td>Devin Huddleston</td>\n",
       "      <td>France</td>\n",
       "      <td>Auvergne-Rhône-Alpes</td>\n",
       "      <td>Valence</td>\n",
       "      <td>Central</td>\n",
       "      <td>Consumer</td>\n",
       "      <td>Economy</td>\n",
       "      <td>Office Supplies</td>\n",
       "      <td>Art</td>\n",
       "      <td>Binney &amp; Smith Sketch Pad, Easy-Erase</td>\n",
       "      <td>0.0</td>\n",
       "      <td>140.0</td>\n",
       "      <td>21.0</td>\n",
       "      <td>3.0</td>\n",
       "      <td>2011</td>\n",
       "    </tr>\n",
       "    <tr>\n",
       "      <th>3</th>\n",
       "      <td>BN-2011-2819714</td>\n",
       "      <td>2011-01-04</td>\n",
       "      <td>Mary Parker</td>\n",
       "      <td>United Kingdom</td>\n",
       "      <td>England</td>\n",
       "      <td>Birmingham</td>\n",
       "      <td>North</td>\n",
       "      <td>Corporate</td>\n",
       "      <td>Economy</td>\n",
       "      <td>Office Supplies</td>\n",
       "      <td>Art</td>\n",
       "      <td>Boston Markers, Easy-Erase</td>\n",
       "      <td>0.5</td>\n",
       "      <td>27.0</td>\n",
       "      <td>-22.0</td>\n",
       "      <td>2.0</td>\n",
       "      <td>2011</td>\n",
       "    </tr>\n",
       "    <tr>\n",
       "      <th>4</th>\n",
       "      <td>BN-2011-2819714</td>\n",
       "      <td>2011-01-04</td>\n",
       "      <td>Mary Parker</td>\n",
       "      <td>United Kingdom</td>\n",
       "      <td>England</td>\n",
       "      <td>Birmingham</td>\n",
       "      <td>North</td>\n",
       "      <td>Corporate</td>\n",
       "      <td>Economy</td>\n",
       "      <td>Office Supplies</td>\n",
       "      <td>Storage</td>\n",
       "      <td>Eldon Folders, Single Width</td>\n",
       "      <td>0.5</td>\n",
       "      <td>17.0</td>\n",
       "      <td>-1.0</td>\n",
       "      <td>2.0</td>\n",
       "      <td>2011</td>\n",
       "    </tr>\n",
       "  </tbody>\n",
       "</table>\n",
       "</div>"
      ],
      "text/plain": [
       "          Order ID Order Date     Customer Name         Country  \\\n",
       "0  BN-2011-7407039 2011-01-01        Ruby Patel          Sweden   \n",
       "1  AZ-2011-9050313 2011-01-03    Summer Hayward  United Kingdom   \n",
       "2  AZ-2011-6674300 2011-01-04  Devin Huddleston          France   \n",
       "3  BN-2011-2819714 2011-01-04       Mary Parker  United Kingdom   \n",
       "4  BN-2011-2819714 2011-01-04       Mary Parker  United Kingdom   \n",
       "\n",
       "                  State        City   Region      Segment     Ship Mode  \\\n",
       "0             Stockholm   Stockholm    North  Home Office  Economy Plus   \n",
       "1               England   Southport    North     Consumer       Economy   \n",
       "2  Auvergne-Rhône-Alpes     Valence  Central     Consumer       Economy   \n",
       "3               England  Birmingham    North    Corporate       Economy   \n",
       "4               England  Birmingham    North    Corporate       Economy   \n",
       "\n",
       "          Category Sub-Category                           Product Name  \\\n",
       "0  Office Supplies        Paper            Enermax Note Cards, Premium   \n",
       "1        Furniture    Bookcases     Dania Corner Shelving, Traditional   \n",
       "2  Office Supplies          Art  Binney & Smith Sketch Pad, Easy-Erase   \n",
       "3  Office Supplies          Art             Boston Markers, Easy-Erase   \n",
       "4  Office Supplies      Storage            Eldon Folders, Single Width   \n",
       "\n",
       "   Discount  Sales  Profit  Quantity  Origin Year  \n",
       "0       0.5   45.0   -26.0       3.0         2011  \n",
       "1       0.0  854.0   290.0       7.0         2011  \n",
       "2       0.0  140.0    21.0       3.0         2011  \n",
       "3       0.5   27.0   -22.0       2.0         2011  \n",
       "4       0.5   17.0    -1.0       2.0         2011  "
      ]
     },
     "execution_count": 573,
     "metadata": {},
     "output_type": "execute_result"
    }
   ],
   "source": [
    "# Determine origin year of customers\n",
    "df = df.dropna(subset=[\"Order Date\", \"Sales\"]).copy()\n",
    "cust_first_dt = (\n",
    "    df.groupby(\"Customer Name\", dropna=False)[\"Order Date\"]\n",
    "      .transform(\"min\")\n",
    ")\n",
    "df[\"Origin Year\"] = cust_first_dt.dt.year.astype(int)\n",
    "df.head()"
   ]
  },
  {
   "cell_type": "markdown",
   "metadata": {},
   "source": [
    "### Step 4: Calculate cumulative transaction amounts ###"
   ]
  },
  {
   "cell_type": "code",
   "execution_count": 574,
   "metadata": {},
   "outputs": [
    {
     "data": {
      "text/html": [
       "<div>\n",
       "<style scoped>\n",
       "    .dataframe tbody tr th:only-of-type {\n",
       "        vertical-align: middle;\n",
       "    }\n",
       "\n",
       "    .dataframe tbody tr th {\n",
       "        vertical-align: top;\n",
       "    }\n",
       "\n",
       "    .dataframe thead th {\n",
       "        text-align: right;\n",
       "    }\n",
       "</style>\n",
       "<table border=\"1\" class=\"dataframe\">\n",
       "  <thead>\n",
       "    <tr style=\"text-align: right;\">\n",
       "      <th></th>\n",
       "      <th>Origin Year</th>\n",
       "      <th>12</th>\n",
       "      <th>24</th>\n",
       "      <th>36</th>\n",
       "      <th>48</th>\n",
       "    </tr>\n",
       "  </thead>\n",
       "  <tbody>\n",
       "    <tr>\n",
       "      <th>0</th>\n",
       "      <td>2011</td>\n",
       "      <td>630527.0</td>\n",
       "      <td>981100.0</td>\n",
       "      <td>1359026.0</td>\n",
       "      <td>1810390.0</td>\n",
       "    </tr>\n",
       "    <tr>\n",
       "      <th>1</th>\n",
       "      <td>2012</td>\n",
       "      <td>219946.0</td>\n",
       "      <td>396507.0</td>\n",
       "      <td>577810.0</td>\n",
       "      <td>577810.0</td>\n",
       "    </tr>\n",
       "    <tr>\n",
       "      <th>2</th>\n",
       "      <td>2013</td>\n",
       "      <td>293581.0</td>\n",
       "      <td>354919.0</td>\n",
       "      <td>354919.0</td>\n",
       "      <td>354919.0</td>\n",
       "    </tr>\n",
       "    <tr>\n",
       "      <th>3</th>\n",
       "      <td>2014</td>\n",
       "      <td>12108.0</td>\n",
       "      <td>12108.0</td>\n",
       "      <td>12108.0</td>\n",
       "      <td>12108.0</td>\n",
       "    </tr>\n",
       "  </tbody>\n",
       "</table>\n",
       "</div>"
      ],
      "text/plain": [
       "   Origin Year        12        24         36         48\n",
       "0         2011  630527.0  981100.0  1359026.0  1810390.0\n",
       "1         2012  219946.0  396507.0   577810.0   577810.0\n",
       "2         2013  293581.0  354919.0   354919.0   354919.0\n",
       "3         2014   12108.0   12108.0    12108.0    12108.0"
      ]
     },
     "execution_count": 574,
     "metadata": {},
     "output_type": "execute_result"
    }
   ],
   "source": [
    "# Calculate cumulative sales by customer age in months\n",
    "\n",
    "df[\"Cohort Start\"] = pd.to_datetime(df[\"Origin Year\"].astype(str) + \"-01-01\")\n",
    "df[\"AgeMonths\"] = (\n",
    "    (df[\"Order Date\"].dt.year - df[\"Cohort Start\"].dt.year) * 12\n",
    "    + (df[\"Order Date\"].dt.month - df[\"Cohort Start\"].dt.month)\n",
    ").astype(int)\n",
    "df = df[df[\"AgeMonths\"] >= 0].copy()\n",
    "age_cutoffs = [12, 24, 36, 48]\n",
    "rows = []\n",
    "for oy, g in df.groupby(\"Origin Year\", dropna=False):\n",
    "    row = {\"Origin Year\": int(oy)}\n",
    "    for cutoff in age_cutoffs:\n",
    "        row[f\"{cutoff}\"] = g.loc[g[\"AgeMonths\"] <= cutoff, \"Sales\"].sum()\n",
    "    rows.append(row)\n",
    "amount_cmltv = (pd.DataFrame(rows).sort_values(\"Origin Year\").reset_index(drop=True))\n",
    "amount_cmltv\n",
    "\n"
   ]
  },
  {
   "cell_type": "markdown",
   "metadata": {},
   "source": [
    "### Step 5: Calculate the number of new customers ###"
   ]
  },
  {
   "cell_type": "code",
   "execution_count": 575,
   "metadata": {},
   "outputs": [
    {
     "data": {
      "text/html": [
       "<div>\n",
       "<style scoped>\n",
       "    .dataframe tbody tr th:only-of-type {\n",
       "        vertical-align: middle;\n",
       "    }\n",
       "\n",
       "    .dataframe tbody tr th {\n",
       "        vertical-align: top;\n",
       "    }\n",
       "\n",
       "    .dataframe thead th {\n",
       "        text-align: right;\n",
       "    }\n",
       "</style>\n",
       "<table border=\"1\" class=\"dataframe\">\n",
       "  <thead>\n",
       "    <tr style=\"text-align: right;\">\n",
       "      <th></th>\n",
       "      <th>Origin Year</th>\n",
       "      <th>12</th>\n",
       "      <th>24</th>\n",
       "      <th>36</th>\n",
       "      <th>48</th>\n",
       "    </tr>\n",
       "  </thead>\n",
       "  <tbody>\n",
       "    <tr>\n",
       "      <th>0</th>\n",
       "      <td>2011</td>\n",
       "      <td>492</td>\n",
       "      <td>492</td>\n",
       "      <td>492</td>\n",
       "      <td>492</td>\n",
       "    </tr>\n",
       "    <tr>\n",
       "      <th>1</th>\n",
       "      <td>2012</td>\n",
       "      <td>204</td>\n",
       "      <td>204</td>\n",
       "      <td>204</td>\n",
       "      <td>204</td>\n",
       "    </tr>\n",
       "    <tr>\n",
       "      <th>2</th>\n",
       "      <td>2013</td>\n",
       "      <td>79</td>\n",
       "      <td>79</td>\n",
       "      <td>79</td>\n",
       "      <td>79</td>\n",
       "    </tr>\n",
       "    <tr>\n",
       "      <th>3</th>\n",
       "      <td>2014</td>\n",
       "      <td>17</td>\n",
       "      <td>17</td>\n",
       "      <td>17</td>\n",
       "      <td>17</td>\n",
       "    </tr>\n",
       "  </tbody>\n",
       "</table>\n",
       "</div>"
      ],
      "text/plain": [
       "   Origin Year   12   24   36   48\n",
       "0         2011  492  492  492  492\n",
       "1         2012  204  204  204  204\n",
       "2         2013   79   79   79   79\n",
       "3         2014   17   17   17   17"
      ]
     },
     "execution_count": 575,
     "metadata": {},
     "output_type": "execute_result"
    }
   ],
   "source": [
    "#Calculate new customers by customer age in months\n",
    "new_customers_per_cohort = (\n",
    "    df.groupby(\"Origin Year\", dropna=False)[\"Customer Name\"]\n",
    "      .nunique()\n",
    "      .rename(\"New Customers\")\n",
    "      .reset_index()\n",
    "      .astype({\"Origin Year\": int, \"New Customers\": int})\n",
    "      .sort_values(\"Origin Year\")\n",
    ")\n",
    "age_cutoffs = [12, 24, 36, 48]\n",
    "new_rows = []\n",
    "for _, row in new_customers_per_cohort.iterrows():\n",
    "    oy = int(row[\"Origin Year\"])\n",
    "    cnt = int(row[\"New Customers\"])\n",
    "    new_row = {\"Origin Year\": oy}\n",
    "    for cutoff in age_cutoffs:\n",
    "        new_row[f\"{cutoff}\"] = cnt \n",
    "    new_rows.append(new_row)\n",
    "newcustomers_cmltv\n"
   ]
  },
  {
   "cell_type": "markdown",
   "metadata": {},
   "source": [
    "### Step 6: Historic CLV ###"
   ]
  },
  {
   "cell_type": "code",
   "execution_count": 576,
   "metadata": {},
   "outputs": [
    {
     "data": {
      "text/html": [
       "<div>\n",
       "<style scoped>\n",
       "    .dataframe tbody tr th:only-of-type {\n",
       "        vertical-align: middle;\n",
       "    }\n",
       "\n",
       "    .dataframe tbody tr th {\n",
       "        vertical-align: top;\n",
       "    }\n",
       "\n",
       "    .dataframe thead th {\n",
       "        text-align: right;\n",
       "    }\n",
       "</style>\n",
       "<table border=\"1\" class=\"dataframe\">\n",
       "  <thead>\n",
       "    <tr style=\"text-align: right;\">\n",
       "      <th></th>\n",
       "      <th>Origin Year</th>\n",
       "      <th>12</th>\n",
       "      <th>24</th>\n",
       "      <th>36</th>\n",
       "      <th>48</th>\n",
       "    </tr>\n",
       "  </thead>\n",
       "  <tbody>\n",
       "    <tr>\n",
       "      <th>0</th>\n",
       "      <td>2011</td>\n",
       "      <td>1281.558943</td>\n",
       "      <td>1994.105691</td>\n",
       "      <td>2762.247967</td>\n",
       "      <td>3679.654472</td>\n",
       "    </tr>\n",
       "    <tr>\n",
       "      <th>1</th>\n",
       "      <td>2012</td>\n",
       "      <td>1078.166667</td>\n",
       "      <td>1943.661765</td>\n",
       "      <td>2832.401961</td>\n",
       "      <td>2832.401961</td>\n",
       "    </tr>\n",
       "    <tr>\n",
       "      <th>2</th>\n",
       "      <td>2013</td>\n",
       "      <td>3716.215190</td>\n",
       "      <td>4492.645570</td>\n",
       "      <td>4492.645570</td>\n",
       "      <td>4492.645570</td>\n",
       "    </tr>\n",
       "    <tr>\n",
       "      <th>3</th>\n",
       "      <td>2014</td>\n",
       "      <td>712.235294</td>\n",
       "      <td>712.235294</td>\n",
       "      <td>712.235294</td>\n",
       "      <td>712.235294</td>\n",
       "    </tr>\n",
       "  </tbody>\n",
       "</table>\n",
       "</div>"
      ],
      "text/plain": [
       "   Origin Year           12           24           36           48\n",
       "0         2011  1281.558943  1994.105691  2762.247967  3679.654472\n",
       "1         2012  1078.166667  1943.661765  2832.401961  2832.401961\n",
       "2         2013  3716.215190  4492.645570  4492.645570  4492.645570\n",
       "3         2014   712.235294   712.235294   712.235294   712.235294"
      ]
     },
     "execution_count": 576,
     "metadata": {},
     "output_type": "execute_result"
    }
   ],
   "source": [
    "# Calculate customer lifetime value (CLV)\n",
    "clv = amount_cmltv.set_index(\"Origin Year\") / newcustomers_cmltv.set_index(\"Origin Year\")\n",
    "clv = clv.reset_index()\n",
    "clv"
   ]
  },
  {
   "cell_type": "code",
   "execution_count": 577,
   "metadata": {},
   "outputs": [
    {
     "data": {
      "image/png": "[encoded data removed]",
      "text/plain": [
       "<Figure size 1200x600 with 1 Axes>"
      ]
     },
     "metadata": {},
     "output_type": "display_data"
    }
   ],
   "source": [
    "#plot the graph of CLV\n",
    "clv_melted = clv.melt(id_vars=\"Origin Year\", var_name=\"AgeMonths\",value_name=\"CLV\").reset_index(drop=True)\n",
    "plt.figure(figsize=(12,6))\n",
    "for oy, g in clv_melted.groupby(\"Origin Year\"):\n",
    "    plt.plot(g[\"AgeMonths\"], g[\"CLV\"], marker='o', label=str(oy))\n",
    "plt.xlabel('Customer Age in Months')\n",
    "plt.ylabel('Customer Lifetime Value (CLV)')\n",
    "plt.title('Customer Lifetime Value (CLV) by Origin Year')\n",
    "plt.legend(title='Origin Year')\n",
    "plt.show()\n",
    "\n",
    "\n",
    "\n"
   ]
  },
  {
   "cell_type": "markdown",
   "metadata": {},
   "source": [
    "### Step 7: Interpreting your results ###"
   ]
  },
  {
   "cell_type": "code",
   "execution_count": 578,
   "metadata": {},
   "outputs": [],
   "source": [
    "#1. Based on the analysis, customers acquired in the year 2011 have spent $1810390 in their lifetime\n",
    "#2. The graph plotted based on historic CLV indicates that there is no pattern in spending, as customers\n",
    "#   acquired in 2013 have a higher CLV than those acquired in 2011, 2012, and 2014. and the business model should focus and analyze what led to the \n",
    "#   higher CLV in 2013 and replicate the same for future customer acquisition strategies.\n"
   ]
  },
  {
   "cell_type": "code",
   "execution_count": null,
   "metadata": {},
   "outputs": [],
   "source": []
  }
 ],
 "metadata": {
  "kernelspec": {
   "display_name": "Python 3",
   "language": "python",
   "name": "python3"
  },
  "language_info": {
   "codemirror_mode": {
    "name": "ipython",
    "version": 3
   },
   "file_extension": ".py",
   "mimetype": "text/x-python",
   "name": "python",
   "nbconvert_exporter": "python",
   "pygments_lexer": "ipython3",
   "version": "3.13.5"
  }
 },
 "nbformat": 4,
 "nbformat_minor": 2
}
